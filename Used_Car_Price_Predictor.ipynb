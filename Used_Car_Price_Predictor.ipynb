{
  "nbformat": 4,
  "nbformat_minor": 0,
  "metadata": {
    "colab": {
      "provenance": [],
      "include_colab_link": true
    },
    "kernelspec": {
      "name": "python3",
      "display_name": "Python 3"
    },
    "language_info": {
      "name": "python"
    }
  },
  "cells": [
    {
      "cell_type": "markdown",
      "metadata": {
        "id": "view-in-github",
        "colab_type": "text"
      },
      "source": [
        "<a href=\"https://colab.research.google.com/github/gauravmalakar08/Used_Car_Price_Predictor/blob/main/Used_Car_Price_Predictor.ipynb\" target=\"_parent\"><img src=\"https://colab.research.google.com/assets/colab-badge.svg\" alt=\"Open In Colab\"/></a>"
      ]
    },
    {
      "cell_type": "code",
      "execution_count": 39,
      "metadata": {
        "id": "pa2yDNzJo6RL"
      },
      "outputs": [],
      "source": [
        "import pandas as pd\n",
        "import numpy as np\n",
        "import matplotlib.pyplot as plt\n",
        "import seaborn as sns\n",
        "from sklearn.model_selection import train_test_split\n",
        "from sklearn.linear_model import LinearRegression\n",
        "from sklearn.linear_model import Lasso\n",
        "from sklearn import metrics \n",
        "\n",
        "\n",
        "import datetime\n",
        "\n",
        "#ignore the warnings\n",
        "import warnings\n",
        "warnings.filterwarnings(\"ignore\")\n"
      ]
    },
    {
      "cell_type": "code",
      "source": [
        "# Importing the data\n",
        "from google.colab import drive\n",
        "drive.mount('/content/drive')"
      ],
      "metadata": {
        "colab": {
          "base_uri": "https://localhost:8080/"
        },
        "id": "1UR-Zvf5sXaL",
        "outputId": "4c6dcf2d-f5d2-47fb-c93e-2414b0895c11"
      },
      "execution_count": null,
      "outputs": [
        {
          "output_type": "stream",
          "name": "stdout",
          "text": [
            "Mounted at /content/drive\n"
          ]
        }
      ]
    },
    {
      "cell_type": "code",
      "source": [
        "# Loading the data\n",
        "df_car = pd.read_csv(\"/content/drive/MyDrive/Colab Notebooks/Car Price Predictor/car details v4.csv\")"
      ],
      "metadata": {
        "id": "NWj7B_pot6gx"
      },
      "execution_count": null,
      "outputs": []
    },
    {
      "cell_type": "code",
      "source": [
        "#copying data to preserve orignal file\n",
        "df = df_car.copy()"
      ],
      "metadata": {
        "id": "REl6pwq_uNxD"
      },
      "execution_count": 40,
      "outputs": []
    },
    {
      "cell_type": "code",
      "source": [
        "#initial check of the data\n",
        "df.head().style.background_gradient(cmap = \"autumn\")"
      ],
      "metadata": {
        "colab": {
          "base_uri": "https://localhost:8080/",
          "height": 539
        },
        "id": "GcTFsBEB6PGL",
        "outputId": "3d836287-dbcf-4060-d4ab-f99825a654a0"
      },
      "execution_count": 41,
      "outputs": [
        {
          "output_type": "execute_result",
          "data": {
            "text/plain": [
              "<pandas.io.formats.style.Styler at 0x7f7971388400>"
            ],
            "text/html": [
              "<style type=\"text/css\">\n",
              "#T_3098c_row0_col2 {\n",
              "  background-color: #ff2a00;\n",
              "  color: #f1f1f1;\n",
              "}\n",
              "#T_3098c_row0_col3 {\n",
              "  background-color: #ffc000;\n",
              "  color: #000000;\n",
              "}\n",
              "#T_3098c_row0_col4, #T_3098c_row3_col3, #T_3098c_row4_col2, #T_3098c_row4_col15, #T_3098c_row4_col16, #T_3098c_row4_col17, #T_3098c_row4_col18, #T_3098c_row4_col19 {\n",
              "  background-color: #ffff00;\n",
              "  color: #000000;\n",
              "}\n",
              "#T_3098c_row0_col15 {\n",
              "  background-color: #ff5a00;\n",
              "  color: #f1f1f1;\n",
              "}\n",
              "#T_3098c_row0_col16 {\n",
              "  background-color: #ff5c00;\n",
              "  color: #f1f1f1;\n",
              "}\n",
              "#T_3098c_row0_col17, #T_3098c_row0_col18, #T_3098c_row0_col19, #T_3098c_row1_col18, #T_3098c_row2_col2, #T_3098c_row2_col3, #T_3098c_row2_col15, #T_3098c_row2_col16, #T_3098c_row2_col18, #T_3098c_row2_col19, #T_3098c_row3_col4, #T_3098c_row3_col18 {\n",
              "  background-color: #ff0000;\n",
              "  color: #f1f1f1;\n",
              "}\n",
              "#T_3098c_row1_col2 {\n",
              "  background-color: #ff2200;\n",
              "  color: #f1f1f1;\n",
              "}\n",
              "#T_3098c_row1_col3 {\n",
              "  background-color: #ff6000;\n",
              "  color: #f1f1f1;\n",
              "}\n",
              "#T_3098c_row1_col4 {\n",
              "  background-color: #ffc100;\n",
              "  color: #000000;\n",
              "}\n",
              "#T_3098c_row1_col15, #T_3098c_row3_col15 {\n",
              "  background-color: #ff5b00;\n",
              "  color: #f1f1f1;\n",
              "}\n",
              "#T_3098c_row1_col16 {\n",
              "  background-color: #ff6c00;\n",
              "  color: #f1f1f1;\n",
              "}\n",
              "#T_3098c_row1_col17 {\n",
              "  background-color: #ff2c00;\n",
              "  color: #f1f1f1;\n",
              "}\n",
              "#T_3098c_row1_col19 {\n",
              "  background-color: #ff5900;\n",
              "  color: #f1f1f1;\n",
              "}\n",
              "#T_3098c_row2_col4 {\n",
              "  background-color: #ff9800;\n",
              "  color: #000000;\n",
              "}\n",
              "#T_3098c_row2_col17 {\n",
              "  background-color: #ff2700;\n",
              "  color: #f1f1f1;\n",
              "}\n",
              "#T_3098c_row3_col2 {\n",
              "  background-color: #ff5500;\n",
              "  color: #f1f1f1;\n",
              "}\n",
              "#T_3098c_row3_col16 {\n",
              "  background-color: #ffa300;\n",
              "  color: #000000;\n",
              "}\n",
              "#T_3098c_row3_col17 {\n",
              "  background-color: #ff0400;\n",
              "  color: #f1f1f1;\n",
              "}\n",
              "#T_3098c_row3_col19 {\n",
              "  background-color: #ff1900;\n",
              "  color: #f1f1f1;\n",
              "}\n",
              "#T_3098c_row4_col3 {\n",
              "  background-color: #ffe000;\n",
              "  color: #000000;\n",
              "}\n",
              "#T_3098c_row4_col4 {\n",
              "  background-color: #ffa200;\n",
              "  color: #000000;\n",
              "}\n",
              "</style>\n",
              "<table id=\"T_3098c_\" class=\"dataframe\">\n",
              "  <thead>\n",
              "    <tr>\n",
              "      <th class=\"blank level0\" >&nbsp;</th>\n",
              "      <th class=\"col_heading level0 col0\" >Make</th>\n",
              "      <th class=\"col_heading level0 col1\" >Model</th>\n",
              "      <th class=\"col_heading level0 col2\" >Price</th>\n",
              "      <th class=\"col_heading level0 col3\" >Year</th>\n",
              "      <th class=\"col_heading level0 col4\" >Kilometer</th>\n",
              "      <th class=\"col_heading level0 col5\" >Fuel Type</th>\n",
              "      <th class=\"col_heading level0 col6\" >Transmission</th>\n",
              "      <th class=\"col_heading level0 col7\" >Location</th>\n",
              "      <th class=\"col_heading level0 col8\" >Color</th>\n",
              "      <th class=\"col_heading level0 col9\" >Owner</th>\n",
              "      <th class=\"col_heading level0 col10\" >Seller Type</th>\n",
              "      <th class=\"col_heading level0 col11\" >Engine</th>\n",
              "      <th class=\"col_heading level0 col12\" >Max Power</th>\n",
              "      <th class=\"col_heading level0 col13\" >Max Torque</th>\n",
              "      <th class=\"col_heading level0 col14\" >Drivetrain</th>\n",
              "      <th class=\"col_heading level0 col15\" >Length</th>\n",
              "      <th class=\"col_heading level0 col16\" >Width</th>\n",
              "      <th class=\"col_heading level0 col17\" >Height</th>\n",
              "      <th class=\"col_heading level0 col18\" >Seating Capacity</th>\n",
              "      <th class=\"col_heading level0 col19\" >Fuel Tank Capacity</th>\n",
              "    </tr>\n",
              "  </thead>\n",
              "  <tbody>\n",
              "    <tr>\n",
              "      <th id=\"T_3098c_level0_row0\" class=\"row_heading level0 row0\" >0</th>\n",
              "      <td id=\"T_3098c_row0_col0\" class=\"data row0 col0\" >Honda</td>\n",
              "      <td id=\"T_3098c_row0_col1\" class=\"data row0 col1\" >Amaze 1.2 VX i-VTEC</td>\n",
              "      <td id=\"T_3098c_row0_col2\" class=\"data row0 col2\" >505000</td>\n",
              "      <td id=\"T_3098c_row0_col3\" class=\"data row0 col3\" >2017</td>\n",
              "      <td id=\"T_3098c_row0_col4\" class=\"data row0 col4\" >87150</td>\n",
              "      <td id=\"T_3098c_row0_col5\" class=\"data row0 col5\" >Petrol</td>\n",
              "      <td id=\"T_3098c_row0_col6\" class=\"data row0 col6\" >Manual</td>\n",
              "      <td id=\"T_3098c_row0_col7\" class=\"data row0 col7\" >Pune</td>\n",
              "      <td id=\"T_3098c_row0_col8\" class=\"data row0 col8\" >Grey</td>\n",
              "      <td id=\"T_3098c_row0_col9\" class=\"data row0 col9\" >First</td>\n",
              "      <td id=\"T_3098c_row0_col10\" class=\"data row0 col10\" >Corporate</td>\n",
              "      <td id=\"T_3098c_row0_col11\" class=\"data row0 col11\" >1198 cc</td>\n",
              "      <td id=\"T_3098c_row0_col12\" class=\"data row0 col12\" >87 bhp @ 6000 rpm</td>\n",
              "      <td id=\"T_3098c_row0_col13\" class=\"data row0 col13\" >109 Nm @ 4500 rpm</td>\n",
              "      <td id=\"T_3098c_row0_col14\" class=\"data row0 col14\" >FWD</td>\n",
              "      <td id=\"T_3098c_row0_col15\" class=\"data row0 col15\" >3990.000000</td>\n",
              "      <td id=\"T_3098c_row0_col16\" class=\"data row0 col16\" >1680.000000</td>\n",
              "      <td id=\"T_3098c_row0_col17\" class=\"data row0 col17\" >1505.000000</td>\n",
              "      <td id=\"T_3098c_row0_col18\" class=\"data row0 col18\" >5.000000</td>\n",
              "      <td id=\"T_3098c_row0_col19\" class=\"data row0 col19\" >35.000000</td>\n",
              "    </tr>\n",
              "    <tr>\n",
              "      <th id=\"T_3098c_level0_row1\" class=\"row_heading level0 row1\" >1</th>\n",
              "      <td id=\"T_3098c_row1_col0\" class=\"data row1 col0\" >Maruti Suzuki</td>\n",
              "      <td id=\"T_3098c_row1_col1\" class=\"data row1 col1\" >Swift DZire VDI</td>\n",
              "      <td id=\"T_3098c_row1_col2\" class=\"data row1 col2\" >450000</td>\n",
              "      <td id=\"T_3098c_row1_col3\" class=\"data row1 col3\" >2014</td>\n",
              "      <td id=\"T_3098c_row1_col4\" class=\"data row1 col4\" >75000</td>\n",
              "      <td id=\"T_3098c_row1_col5\" class=\"data row1 col5\" >Diesel</td>\n",
              "      <td id=\"T_3098c_row1_col6\" class=\"data row1 col6\" >Manual</td>\n",
              "      <td id=\"T_3098c_row1_col7\" class=\"data row1 col7\" >Ludhiana</td>\n",
              "      <td id=\"T_3098c_row1_col8\" class=\"data row1 col8\" >White</td>\n",
              "      <td id=\"T_3098c_row1_col9\" class=\"data row1 col9\" >Second</td>\n",
              "      <td id=\"T_3098c_row1_col10\" class=\"data row1 col10\" >Individual</td>\n",
              "      <td id=\"T_3098c_row1_col11\" class=\"data row1 col11\" >1248 cc</td>\n",
              "      <td id=\"T_3098c_row1_col12\" class=\"data row1 col12\" >74 bhp @ 4000 rpm</td>\n",
              "      <td id=\"T_3098c_row1_col13\" class=\"data row1 col13\" >190 Nm @ 2000 rpm</td>\n",
              "      <td id=\"T_3098c_row1_col14\" class=\"data row1 col14\" >FWD</td>\n",
              "      <td id=\"T_3098c_row1_col15\" class=\"data row1 col15\" >3995.000000</td>\n",
              "      <td id=\"T_3098c_row1_col16\" class=\"data row1 col16\" >1695.000000</td>\n",
              "      <td id=\"T_3098c_row1_col17\" class=\"data row1 col17\" >1555.000000</td>\n",
              "      <td id=\"T_3098c_row1_col18\" class=\"data row1 col18\" >5.000000</td>\n",
              "      <td id=\"T_3098c_row1_col19\" class=\"data row1 col19\" >42.000000</td>\n",
              "    </tr>\n",
              "    <tr>\n",
              "      <th id=\"T_3098c_level0_row2\" class=\"row_heading level0 row2\" >2</th>\n",
              "      <td id=\"T_3098c_row2_col0\" class=\"data row2 col0\" >Hyundai</td>\n",
              "      <td id=\"T_3098c_row2_col1\" class=\"data row2 col1\" >i10 Magna 1.2 Kappa2</td>\n",
              "      <td id=\"T_3098c_row2_col2\" class=\"data row2 col2\" >220000</td>\n",
              "      <td id=\"T_3098c_row2_col3\" class=\"data row2 col3\" >2011</td>\n",
              "      <td id=\"T_3098c_row2_col4\" class=\"data row2 col4\" >67000</td>\n",
              "      <td id=\"T_3098c_row2_col5\" class=\"data row2 col5\" >Petrol</td>\n",
              "      <td id=\"T_3098c_row2_col6\" class=\"data row2 col6\" >Manual</td>\n",
              "      <td id=\"T_3098c_row2_col7\" class=\"data row2 col7\" >Lucknow</td>\n",
              "      <td id=\"T_3098c_row2_col8\" class=\"data row2 col8\" >Maroon</td>\n",
              "      <td id=\"T_3098c_row2_col9\" class=\"data row2 col9\" >First</td>\n",
              "      <td id=\"T_3098c_row2_col10\" class=\"data row2 col10\" >Individual</td>\n",
              "      <td id=\"T_3098c_row2_col11\" class=\"data row2 col11\" >1197 cc</td>\n",
              "      <td id=\"T_3098c_row2_col12\" class=\"data row2 col12\" >79 bhp @ 6000 rpm</td>\n",
              "      <td id=\"T_3098c_row2_col13\" class=\"data row2 col13\" >112.7619 Nm @ 4000 rpm</td>\n",
              "      <td id=\"T_3098c_row2_col14\" class=\"data row2 col14\" >FWD</td>\n",
              "      <td id=\"T_3098c_row2_col15\" class=\"data row2 col15\" >3585.000000</td>\n",
              "      <td id=\"T_3098c_row2_col16\" class=\"data row2 col16\" >1595.000000</td>\n",
              "      <td id=\"T_3098c_row2_col17\" class=\"data row2 col17\" >1550.000000</td>\n",
              "      <td id=\"T_3098c_row2_col18\" class=\"data row2 col18\" >5.000000</td>\n",
              "      <td id=\"T_3098c_row2_col19\" class=\"data row2 col19\" >35.000000</td>\n",
              "    </tr>\n",
              "    <tr>\n",
              "      <th id=\"T_3098c_level0_row3\" class=\"row_heading level0 row3\" >3</th>\n",
              "      <td id=\"T_3098c_row3_col0\" class=\"data row3 col0\" >Toyota</td>\n",
              "      <td id=\"T_3098c_row3_col1\" class=\"data row3 col1\" >Glanza G</td>\n",
              "      <td id=\"T_3098c_row3_col2\" class=\"data row3 col2\" >799000</td>\n",
              "      <td id=\"T_3098c_row3_col3\" class=\"data row3 col3\" >2019</td>\n",
              "      <td id=\"T_3098c_row3_col4\" class=\"data row3 col4\" >37500</td>\n",
              "      <td id=\"T_3098c_row3_col5\" class=\"data row3 col5\" >Petrol</td>\n",
              "      <td id=\"T_3098c_row3_col6\" class=\"data row3 col6\" >Manual</td>\n",
              "      <td id=\"T_3098c_row3_col7\" class=\"data row3 col7\" >Mangalore</td>\n",
              "      <td id=\"T_3098c_row3_col8\" class=\"data row3 col8\" >Red</td>\n",
              "      <td id=\"T_3098c_row3_col9\" class=\"data row3 col9\" >First</td>\n",
              "      <td id=\"T_3098c_row3_col10\" class=\"data row3 col10\" >Individual</td>\n",
              "      <td id=\"T_3098c_row3_col11\" class=\"data row3 col11\" >1197 cc</td>\n",
              "      <td id=\"T_3098c_row3_col12\" class=\"data row3 col12\" >82 bhp @ 6000 rpm</td>\n",
              "      <td id=\"T_3098c_row3_col13\" class=\"data row3 col13\" >113 Nm @ 4200 rpm</td>\n",
              "      <td id=\"T_3098c_row3_col14\" class=\"data row3 col14\" >FWD</td>\n",
              "      <td id=\"T_3098c_row3_col15\" class=\"data row3 col15\" >3995.000000</td>\n",
              "      <td id=\"T_3098c_row3_col16\" class=\"data row3 col16\" >1745.000000</td>\n",
              "      <td id=\"T_3098c_row3_col17\" class=\"data row3 col17\" >1510.000000</td>\n",
              "      <td id=\"T_3098c_row3_col18\" class=\"data row3 col18\" >5.000000</td>\n",
              "      <td id=\"T_3098c_row3_col19\" class=\"data row3 col19\" >37.000000</td>\n",
              "    </tr>\n",
              "    <tr>\n",
              "      <th id=\"T_3098c_level0_row4\" class=\"row_heading level0 row4\" >4</th>\n",
              "      <td id=\"T_3098c_row4_col0\" class=\"data row4 col0\" >Toyota</td>\n",
              "      <td id=\"T_3098c_row4_col1\" class=\"data row4 col1\" >Innova 2.4 VX 7 STR [2016-2020]</td>\n",
              "      <td id=\"T_3098c_row4_col2\" class=\"data row4 col2\" >1950000</td>\n",
              "      <td id=\"T_3098c_row4_col3\" class=\"data row4 col3\" >2018</td>\n",
              "      <td id=\"T_3098c_row4_col4\" class=\"data row4 col4\" >69000</td>\n",
              "      <td id=\"T_3098c_row4_col5\" class=\"data row4 col5\" >Diesel</td>\n",
              "      <td id=\"T_3098c_row4_col6\" class=\"data row4 col6\" >Manual</td>\n",
              "      <td id=\"T_3098c_row4_col7\" class=\"data row4 col7\" >Mumbai</td>\n",
              "      <td id=\"T_3098c_row4_col8\" class=\"data row4 col8\" >Grey</td>\n",
              "      <td id=\"T_3098c_row4_col9\" class=\"data row4 col9\" >First</td>\n",
              "      <td id=\"T_3098c_row4_col10\" class=\"data row4 col10\" >Individual</td>\n",
              "      <td id=\"T_3098c_row4_col11\" class=\"data row4 col11\" >2393 cc</td>\n",
              "      <td id=\"T_3098c_row4_col12\" class=\"data row4 col12\" >148 bhp @ 3400 rpm</td>\n",
              "      <td id=\"T_3098c_row4_col13\" class=\"data row4 col13\" >343 Nm @ 1400 rpm</td>\n",
              "      <td id=\"T_3098c_row4_col14\" class=\"data row4 col14\" >RWD</td>\n",
              "      <td id=\"T_3098c_row4_col15\" class=\"data row4 col15\" >4735.000000</td>\n",
              "      <td id=\"T_3098c_row4_col16\" class=\"data row4 col16\" >1830.000000</td>\n",
              "      <td id=\"T_3098c_row4_col17\" class=\"data row4 col17\" >1795.000000</td>\n",
              "      <td id=\"T_3098c_row4_col18\" class=\"data row4 col18\" >7.000000</td>\n",
              "      <td id=\"T_3098c_row4_col19\" class=\"data row4 col19\" >55.000000</td>\n",
              "    </tr>\n",
              "  </tbody>\n",
              "</table>\n"
            ]
          },
          "metadata": {},
          "execution_count": 41
        }
      ]
    },
    {
      "cell_type": "code",
      "source": [
        "#initial check of the column datatypes\n",
        "df.info()"
      ],
      "metadata": {
        "colab": {
          "base_uri": "https://localhost:8080/"
        },
        "id": "JPL2Xl4k7sll",
        "outputId": "d27993ea-fb06-47e5-d116-3f41676da49d"
      },
      "execution_count": 42,
      "outputs": [
        {
          "output_type": "stream",
          "name": "stdout",
          "text": [
            "<class 'pandas.core.frame.DataFrame'>\n",
            "RangeIndex: 2059 entries, 0 to 2058\n",
            "Data columns (total 20 columns):\n",
            " #   Column              Non-Null Count  Dtype  \n",
            "---  ------              --------------  -----  \n",
            " 0   Make                2059 non-null   object \n",
            " 1   Model               2059 non-null   object \n",
            " 2   Price               2059 non-null   int64  \n",
            " 3   Year                2059 non-null   int64  \n",
            " 4   Kilometer           2059 non-null   int64  \n",
            " 5   Fuel Type           2059 non-null   object \n",
            " 6   Transmission        2059 non-null   object \n",
            " 7   Location            2059 non-null   object \n",
            " 8   Color               2059 non-null   object \n",
            " 9   Owner               2059 non-null   object \n",
            " 10  Seller Type         2059 non-null   object \n",
            " 11  Engine              1979 non-null   object \n",
            " 12  Max Power           1979 non-null   object \n",
            " 13  Max Torque          1979 non-null   object \n",
            " 14  Drivetrain          1923 non-null   object \n",
            " 15  Length              1995 non-null   float64\n",
            " 16  Width               1995 non-null   float64\n",
            " 17  Height              1995 non-null   float64\n",
            " 18  Seating Capacity    1995 non-null   float64\n",
            " 19  Fuel Tank Capacity  1946 non-null   float64\n",
            "dtypes: float64(5), int64(3), object(12)\n",
            "memory usage: 321.8+ KB\n"
          ]
        }
      ]
    },
    {
      "cell_type": "code",
      "source": [
        "#get the shape of the data\n",
        "df.shape"
      ],
      "metadata": {
        "colab": {
          "base_uri": "https://localhost:8080/"
        },
        "id": "6jVp4TQ-8IwS",
        "outputId": "07c363d3-79fa-4906-821c-7753cd727360"
      },
      "execution_count": 43,
      "outputs": [
        {
          "output_type": "execute_result",
          "data": {
            "text/plain": [
              "(2059, 20)"
            ]
          },
          "metadata": {},
          "execution_count": 43
        }
      ]
    },
    {
      "cell_type": "code",
      "source": [
        "#get the summary staticstis of the data\n",
        "df.describe().T.style.background_gradient(cmap = \"viridis\")"
      ],
      "metadata": {
        "colab": {
          "base_uri": "https://localhost:8080/",
          "height": 300
        },
        "id": "6wqpU2Ggu43t",
        "outputId": "8806bd73-28ce-4f1e-b183-8abd9ef97a51"
      },
      "execution_count": 44,
      "outputs": [
        {
          "output_type": "execute_result",
          "data": {
            "text/plain": [
              "<pandas.io.formats.style.Styler at 0x7f7971924520>"
            ],
            "text/html": [
              "<style type=\"text/css\">\n",
              "#T_db785_row0_col0, #T_db785_row0_col1, #T_db785_row0_col2, #T_db785_row0_col3, #T_db785_row0_col4, #T_db785_row0_col5, #T_db785_row0_col6, #T_db785_row0_col7, #T_db785_row1_col0, #T_db785_row2_col0 {\n",
              "  background-color: #fde725;\n",
              "  color: #000000;\n",
              "}\n",
              "#T_db785_row1_col1, #T_db785_row1_col2, #T_db785_row1_col5, #T_db785_row1_col6, #T_db785_row1_col7, #T_db785_row2_col3, #T_db785_row3_col1, #T_db785_row3_col2, #T_db785_row3_col6, #T_db785_row3_col7, #T_db785_row4_col1, #T_db785_row4_col2, #T_db785_row4_col4, #T_db785_row4_col5, #T_db785_row4_col6, #T_db785_row4_col7, #T_db785_row5_col1, #T_db785_row5_col2, #T_db785_row5_col4, #T_db785_row5_col5, #T_db785_row5_col6, #T_db785_row5_col7, #T_db785_row6_col1, #T_db785_row6_col2, #T_db785_row6_col3, #T_db785_row6_col4, #T_db785_row6_col5, #T_db785_row6_col6, #T_db785_row6_col7, #T_db785_row7_col0, #T_db785_row7_col1, #T_db785_row7_col2, #T_db785_row7_col3, #T_db785_row7_col4, #T_db785_row7_col5, #T_db785_row7_col6, #T_db785_row7_col7 {\n",
              "  background-color: #440154;\n",
              "  color: #f1f1f1;\n",
              "}\n",
              "#T_db785_row1_col3 {\n",
              "  background-color: #471063;\n",
              "  color: #f1f1f1;\n",
              "}\n",
              "#T_db785_row1_col4, #T_db785_row3_col5 {\n",
              "  background-color: #440256;\n",
              "  color: #f1f1f1;\n",
              "}\n",
              "#T_db785_row2_col1 {\n",
              "  background-color: #470d60;\n",
              "  color: #f1f1f1;\n",
              "}\n",
              "#T_db785_row2_col2, #T_db785_row5_col3 {\n",
              "  background-color: #460a5d;\n",
              "  color: #f1f1f1;\n",
              "}\n",
              "#T_db785_row2_col4, #T_db785_row2_col5 {\n",
              "  background-color: #481769;\n",
              "  color: #f1f1f1;\n",
              "}\n",
              "#T_db785_row2_col6 {\n",
              "  background-color: #470e61;\n",
              "  color: #f1f1f1;\n",
              "}\n",
              "#T_db785_row2_col7 {\n",
              "  background-color: #481668;\n",
              "  color: #f1f1f1;\n",
              "}\n",
              "#T_db785_row3_col0, #T_db785_row4_col0, #T_db785_row5_col0, #T_db785_row6_col0 {\n",
              "  background-color: #26818e;\n",
              "  color: #f1f1f1;\n",
              "}\n",
              "#T_db785_row3_col3 {\n",
              "  background-color: #48186a;\n",
              "  color: #f1f1f1;\n",
              "}\n",
              "#T_db785_row3_col4 {\n",
              "  background-color: #450457;\n",
              "  color: #f1f1f1;\n",
              "}\n",
              "#T_db785_row4_col3 {\n",
              "  background-color: #460b5e;\n",
              "  color: #f1f1f1;\n",
              "}\n",
              "</style>\n",
              "<table id=\"T_db785_\" class=\"dataframe\">\n",
              "  <thead>\n",
              "    <tr>\n",
              "      <th class=\"blank level0\" >&nbsp;</th>\n",
              "      <th class=\"col_heading level0 col0\" >count</th>\n",
              "      <th class=\"col_heading level0 col1\" >mean</th>\n",
              "      <th class=\"col_heading level0 col2\" >std</th>\n",
              "      <th class=\"col_heading level0 col3\" >min</th>\n",
              "      <th class=\"col_heading level0 col4\" >25%</th>\n",
              "      <th class=\"col_heading level0 col5\" >50%</th>\n",
              "      <th class=\"col_heading level0 col6\" >75%</th>\n",
              "      <th class=\"col_heading level0 col7\" >max</th>\n",
              "    </tr>\n",
              "  </thead>\n",
              "  <tbody>\n",
              "    <tr>\n",
              "      <th id=\"T_db785_level0_row0\" class=\"row_heading level0 row0\" >Price</th>\n",
              "      <td id=\"T_db785_row0_col0\" class=\"data row0 col0\" >2059.000000</td>\n",
              "      <td id=\"T_db785_row0_col1\" class=\"data row0 col1\" >1702991.696455</td>\n",
              "      <td id=\"T_db785_row0_col2\" class=\"data row0 col2\" >2419880.635434</td>\n",
              "      <td id=\"T_db785_row0_col3\" class=\"data row0 col3\" >49000.000000</td>\n",
              "      <td id=\"T_db785_row0_col4\" class=\"data row0 col4\" >484999.000000</td>\n",
              "      <td id=\"T_db785_row0_col5\" class=\"data row0 col5\" >825000.000000</td>\n",
              "      <td id=\"T_db785_row0_col6\" class=\"data row0 col6\" >1925000.000000</td>\n",
              "      <td id=\"T_db785_row0_col7\" class=\"data row0 col7\" >35000000.000000</td>\n",
              "    </tr>\n",
              "    <tr>\n",
              "      <th id=\"T_db785_level0_row1\" class=\"row_heading level0 row1\" >Year</th>\n",
              "      <td id=\"T_db785_row1_col0\" class=\"data row1 col0\" >2059.000000</td>\n",
              "      <td id=\"T_db785_row1_col1\" class=\"data row1 col1\" >2016.425449</td>\n",
              "      <td id=\"T_db785_row1_col2\" class=\"data row1 col2\" >3.363564</td>\n",
              "      <td id=\"T_db785_row1_col3\" class=\"data row1 col3\" >1988.000000</td>\n",
              "      <td id=\"T_db785_row1_col4\" class=\"data row1 col4\" >2014.000000</td>\n",
              "      <td id=\"T_db785_row1_col5\" class=\"data row1 col5\" >2017.000000</td>\n",
              "      <td id=\"T_db785_row1_col6\" class=\"data row1 col6\" >2019.000000</td>\n",
              "      <td id=\"T_db785_row1_col7\" class=\"data row1 col7\" >2022.000000</td>\n",
              "    </tr>\n",
              "    <tr>\n",
              "      <th id=\"T_db785_level0_row2\" class=\"row_heading level0 row2\" >Kilometer</th>\n",
              "      <td id=\"T_db785_row2_col0\" class=\"data row2 col0\" >2059.000000</td>\n",
              "      <td id=\"T_db785_row2_col1\" class=\"data row2 col1\" >54224.714424</td>\n",
              "      <td id=\"T_db785_row2_col2\" class=\"data row2 col2\" >57361.721314</td>\n",
              "      <td id=\"T_db785_row2_col3\" class=\"data row2 col3\" >0.000000</td>\n",
              "      <td id=\"T_db785_row2_col4\" class=\"data row2 col4\" >29000.000000</td>\n",
              "      <td id=\"T_db785_row2_col5\" class=\"data row2 col5\" >50000.000000</td>\n",
              "      <td id=\"T_db785_row2_col6\" class=\"data row2 col6\" >72000.000000</td>\n",
              "      <td id=\"T_db785_row2_col7\" class=\"data row2 col7\" >2000000.000000</td>\n",
              "    </tr>\n",
              "    <tr>\n",
              "      <th id=\"T_db785_level0_row3\" class=\"row_heading level0 row3\" >Length</th>\n",
              "      <td id=\"T_db785_row3_col0\" class=\"data row3 col0\" >1995.000000</td>\n",
              "      <td id=\"T_db785_row3_col1\" class=\"data row3 col1\" >4280.860652</td>\n",
              "      <td id=\"T_db785_row3_col2\" class=\"data row3 col2\" >442.458507</td>\n",
              "      <td id=\"T_db785_row3_col3\" class=\"data row3 col3\" >3099.000000</td>\n",
              "      <td id=\"T_db785_row3_col4\" class=\"data row3 col4\" >3985.000000</td>\n",
              "      <td id=\"T_db785_row3_col5\" class=\"data row3 col5\" >4370.000000</td>\n",
              "      <td id=\"T_db785_row3_col6\" class=\"data row3 col6\" >4629.000000</td>\n",
              "      <td id=\"T_db785_row3_col7\" class=\"data row3 col7\" >5569.000000</td>\n",
              "    </tr>\n",
              "    <tr>\n",
              "      <th id=\"T_db785_level0_row4\" class=\"row_heading level0 row4\" >Width</th>\n",
              "      <td id=\"T_db785_row4_col0\" class=\"data row4 col0\" >1995.000000</td>\n",
              "      <td id=\"T_db785_row4_col1\" class=\"data row4 col1\" >1767.991980</td>\n",
              "      <td id=\"T_db785_row4_col2\" class=\"data row4 col2\" >135.265825</td>\n",
              "      <td id=\"T_db785_row4_col3\" class=\"data row4 col3\" >1475.000000</td>\n",
              "      <td id=\"T_db785_row4_col4\" class=\"data row4 col4\" >1695.000000</td>\n",
              "      <td id=\"T_db785_row4_col5\" class=\"data row4 col5\" >1770.000000</td>\n",
              "      <td id=\"T_db785_row4_col6\" class=\"data row4 col6\" >1831.500000</td>\n",
              "      <td id=\"T_db785_row4_col7\" class=\"data row4 col7\" >2220.000000</td>\n",
              "    </tr>\n",
              "    <tr>\n",
              "      <th id=\"T_db785_level0_row5\" class=\"row_heading level0 row5\" >Height</th>\n",
              "      <td id=\"T_db785_row5_col0\" class=\"data row5 col0\" >1995.000000</td>\n",
              "      <td id=\"T_db785_row5_col1\" class=\"data row5 col1\" >1591.735338</td>\n",
              "      <td id=\"T_db785_row5_col2\" class=\"data row5 col2\" >136.073956</td>\n",
              "      <td id=\"T_db785_row5_col3\" class=\"data row5 col3\" >1165.000000</td>\n",
              "      <td id=\"T_db785_row5_col4\" class=\"data row5 col4\" >1485.000000</td>\n",
              "      <td id=\"T_db785_row5_col5\" class=\"data row5 col5\" >1545.000000</td>\n",
              "      <td id=\"T_db785_row5_col6\" class=\"data row5 col6\" >1675.000000</td>\n",
              "      <td id=\"T_db785_row5_col7\" class=\"data row5 col7\" >1995.000000</td>\n",
              "    </tr>\n",
              "    <tr>\n",
              "      <th id=\"T_db785_level0_row6\" class=\"row_heading level0 row6\" >Seating Capacity</th>\n",
              "      <td id=\"T_db785_row6_col0\" class=\"data row6 col0\" >1995.000000</td>\n",
              "      <td id=\"T_db785_row6_col1\" class=\"data row6 col1\" >5.306266</td>\n",
              "      <td id=\"T_db785_row6_col2\" class=\"data row6 col2\" >0.822170</td>\n",
              "      <td id=\"T_db785_row6_col3\" class=\"data row6 col3\" >2.000000</td>\n",
              "      <td id=\"T_db785_row6_col4\" class=\"data row6 col4\" >5.000000</td>\n",
              "      <td id=\"T_db785_row6_col5\" class=\"data row6 col5\" >5.000000</td>\n",
              "      <td id=\"T_db785_row6_col6\" class=\"data row6 col6\" >5.000000</td>\n",
              "      <td id=\"T_db785_row6_col7\" class=\"data row6 col7\" >8.000000</td>\n",
              "    </tr>\n",
              "    <tr>\n",
              "      <th id=\"T_db785_level0_row7\" class=\"row_heading level0 row7\" >Fuel Tank Capacity</th>\n",
              "      <td id=\"T_db785_row7_col0\" class=\"data row7 col0\" >1946.000000</td>\n",
              "      <td id=\"T_db785_row7_col1\" class=\"data row7 col1\" >52.002210</td>\n",
              "      <td id=\"T_db785_row7_col2\" class=\"data row7 col2\" >15.110198</td>\n",
              "      <td id=\"T_db785_row7_col3\" class=\"data row7 col3\" >15.000000</td>\n",
              "      <td id=\"T_db785_row7_col4\" class=\"data row7 col4\" >41.250000</td>\n",
              "      <td id=\"T_db785_row7_col5\" class=\"data row7 col5\" >50.000000</td>\n",
              "      <td id=\"T_db785_row7_col6\" class=\"data row7 col6\" >60.000000</td>\n",
              "      <td id=\"T_db785_row7_col7\" class=\"data row7 col7\" >105.000000</td>\n",
              "    </tr>\n",
              "  </tbody>\n",
              "</table>\n"
            ]
          },
          "metadata": {},
          "execution_count": 44
        }
      ]
    },
    {
      "cell_type": "code",
      "source": [
        "df[df['Price'] == 35000000]"
      ],
      "metadata": {
        "colab": {
          "base_uri": "https://localhost:8080/",
          "height": 81
        },
        "id": "eMX0gqcdToCw",
        "outputId": "007e038c-686b-4feb-acc4-02b20e54620b"
      },
      "execution_count": 66,
      "outputs": [
        {
          "output_type": "execute_result",
          "data": {
            "text/plain": [
              "        Make Car Model     Price  Year  Kilometer Fuel Type Transmission  \\\n",
              "483  Ferrari       488  35000000  2018       9500    Petrol    Automatic   \n",
              "\n",
              "    Location  Color  Owner Seller Type  \n",
              "483    Delhi  Black  First  Individual  "
            ],
            "text/html": [
              "\n",
              "  <div id=\"df-40bd8c95-078f-42a4-af7a-167dcd6a6ad0\">\n",
              "    <div class=\"colab-df-container\">\n",
              "      <div>\n",
              "<style scoped>\n",
              "    .dataframe tbody tr th:only-of-type {\n",
              "        vertical-align: middle;\n",
              "    }\n",
              "\n",
              "    .dataframe tbody tr th {\n",
              "        vertical-align: top;\n",
              "    }\n",
              "\n",
              "    .dataframe thead th {\n",
              "        text-align: right;\n",
              "    }\n",
              "</style>\n",
              "<table border=\"1\" class=\"dataframe\">\n",
              "  <thead>\n",
              "    <tr style=\"text-align: right;\">\n",
              "      <th></th>\n",
              "      <th>Make</th>\n",
              "      <th>Car Model</th>\n",
              "      <th>Price</th>\n",
              "      <th>Year</th>\n",
              "      <th>Kilometer</th>\n",
              "      <th>Fuel Type</th>\n",
              "      <th>Transmission</th>\n",
              "      <th>Location</th>\n",
              "      <th>Color</th>\n",
              "      <th>Owner</th>\n",
              "      <th>Seller Type</th>\n",
              "    </tr>\n",
              "  </thead>\n",
              "  <tbody>\n",
              "    <tr>\n",
              "      <th>483</th>\n",
              "      <td>Ferrari</td>\n",
              "      <td>488</td>\n",
              "      <td>35000000</td>\n",
              "      <td>2018</td>\n",
              "      <td>9500</td>\n",
              "      <td>Petrol</td>\n",
              "      <td>Automatic</td>\n",
              "      <td>Delhi</td>\n",
              "      <td>Black</td>\n",
              "      <td>First</td>\n",
              "      <td>Individual</td>\n",
              "    </tr>\n",
              "  </tbody>\n",
              "</table>\n",
              "</div>\n",
              "      <button class=\"colab-df-convert\" onclick=\"convertToInteractive('df-40bd8c95-078f-42a4-af7a-167dcd6a6ad0')\"\n",
              "              title=\"Convert this dataframe to an interactive table.\"\n",
              "              style=\"display:none;\">\n",
              "        \n",
              "  <svg xmlns=\"http://www.w3.org/2000/svg\" height=\"24px\"viewBox=\"0 0 24 24\"\n",
              "       width=\"24px\">\n",
              "    <path d=\"M0 0h24v24H0V0z\" fill=\"none\"/>\n",
              "    <path d=\"M18.56 5.44l.94 2.06.94-2.06 2.06-.94-2.06-.94-.94-2.06-.94 2.06-2.06.94zm-11 1L8.5 8.5l.94-2.06 2.06-.94-2.06-.94L8.5 2.5l-.94 2.06-2.06.94zm10 10l.94 2.06.94-2.06 2.06-.94-2.06-.94-.94-2.06-.94 2.06-2.06.94z\"/><path d=\"M17.41 7.96l-1.37-1.37c-.4-.4-.92-.59-1.43-.59-.52 0-1.04.2-1.43.59L10.3 9.45l-7.72 7.72c-.78.78-.78 2.05 0 2.83L4 21.41c.39.39.9.59 1.41.59.51 0 1.02-.2 1.41-.59l7.78-7.78 2.81-2.81c.8-.78.8-2.07 0-2.86zM5.41 20L4 18.59l7.72-7.72 1.47 1.35L5.41 20z\"/>\n",
              "  </svg>\n",
              "      </button>\n",
              "      \n",
              "  <style>\n",
              "    .colab-df-container {\n",
              "      display:flex;\n",
              "      flex-wrap:wrap;\n",
              "      gap: 12px;\n",
              "    }\n",
              "\n",
              "    .colab-df-convert {\n",
              "      background-color: #E8F0FE;\n",
              "      border: none;\n",
              "      border-radius: 50%;\n",
              "      cursor: pointer;\n",
              "      display: none;\n",
              "      fill: #1967D2;\n",
              "      height: 32px;\n",
              "      padding: 0 0 0 0;\n",
              "      width: 32px;\n",
              "    }\n",
              "\n",
              "    .colab-df-convert:hover {\n",
              "      background-color: #E2EBFA;\n",
              "      box-shadow: 0px 1px 2px rgba(60, 64, 67, 0.3), 0px 1px 3px 1px rgba(60, 64, 67, 0.15);\n",
              "      fill: #174EA6;\n",
              "    }\n",
              "\n",
              "    [theme=dark] .colab-df-convert {\n",
              "      background-color: #3B4455;\n",
              "      fill: #D2E3FC;\n",
              "    }\n",
              "\n",
              "    [theme=dark] .colab-df-convert:hover {\n",
              "      background-color: #434B5C;\n",
              "      box-shadow: 0px 1px 3px 1px rgba(0, 0, 0, 0.15);\n",
              "      filter: drop-shadow(0px 1px 2px rgba(0, 0, 0, 0.3));\n",
              "      fill: #FFFFFF;\n",
              "    }\n",
              "  </style>\n",
              "\n",
              "      <script>\n",
              "        const buttonEl =\n",
              "          document.querySelector('#df-40bd8c95-078f-42a4-af7a-167dcd6a6ad0 button.colab-df-convert');\n",
              "        buttonEl.style.display =\n",
              "          google.colab.kernel.accessAllowed ? 'block' : 'none';\n",
              "\n",
              "        async function convertToInteractive(key) {\n",
              "          const element = document.querySelector('#df-40bd8c95-078f-42a4-af7a-167dcd6a6ad0');\n",
              "          const dataTable =\n",
              "            await google.colab.kernel.invokeFunction('convertToInteractive',\n",
              "                                                     [key], {});\n",
              "          if (!dataTable) return;\n",
              "\n",
              "          const docLinkHtml = 'Like what you see? Visit the ' +\n",
              "            '<a target=\"_blank\" href=https://colab.research.google.com/notebooks/data_table.ipynb>data table notebook</a>'\n",
              "            + ' to learn more about interactive tables.';\n",
              "          element.innerHTML = '';\n",
              "          dataTable['output_type'] = 'display_data';\n",
              "          await google.colab.output.renderOutput(dataTable, element);\n",
              "          const docLink = document.createElement('div');\n",
              "          docLink.innerHTML = docLinkHtml;\n",
              "          element.appendChild(docLink);\n",
              "        }\n",
              "      </script>\n",
              "    </div>\n",
              "  </div>\n",
              "  "
            ]
          },
          "metadata": {},
          "execution_count": 66
        }
      ]
    },
    {
      "cell_type": "code",
      "source": [
        "#converting the datatype of the year column\n",
        "df['Year'] = pd.DatetimeIndex(pd.to_datetime(df['Year'], format='%Y')).year\n"
      ],
      "metadata": {
        "id": "RNAtlWm4wNDt"
      },
      "execution_count": 45,
      "outputs": []
    },
    {
      "cell_type": "code",
      "source": [
        "#dropping the unnesseary colums for now\n",
        "columns_to_drop = ['Engine','Max Power','Max Torque','Drivetrain','Length','Width','Height','Seating Capacity','Fuel Tank Capacity']\n",
        "\n",
        "# Drop the columns\n",
        "df = df.drop(columns=columns_to_drop)"
      ],
      "metadata": {
        "id": "TCCAvCvE8u1B"
      },
      "execution_count": 46,
      "outputs": []
    },
    {
      "cell_type": "code",
      "source": [
        "#checking the shape of the data\n",
        "df.shape"
      ],
      "metadata": {
        "colab": {
          "base_uri": "https://localhost:8080/"
        },
        "id": "fk3s9aDCCmwa",
        "outputId": "71cb40ad-d854-4bae-9e46-5ad8e4c97038"
      },
      "execution_count": 47,
      "outputs": [
        {
          "output_type": "execute_result",
          "data": {
            "text/plain": [
              "(2059, 11)"
            ]
          },
          "metadata": {},
          "execution_count": 47
        }
      ]
    },
    {
      "cell_type": "code",
      "source": [
        "#extracting the proper model name of the particular car (removing the varient names)\n",
        "df['Car Model'] = df['Model'].str.extract(r'(\\S{3,}|\\S{1,2}\\s+\\S+)', expand=False)"
      ],
      "metadata": {
        "id": "TWn0GQv2GXFq"
      },
      "execution_count": 48,
      "outputs": []
    },
    {
      "cell_type": "code",
      "source": [
        "# Reordering the dataset\n",
        "new_column_order = ['index', 'Make', 'Model', 'Car Model', 'Price', 'Year', 'Kilometer', 'Fuel Type', 'Transmission', 'Location', 'Color', 'Owner', 'Seller Type']\n",
        "df = df.reindex(columns=new_column_order)\n"
      ],
      "metadata": {
        "id": "jeIzwXIiHv5n"
      },
      "execution_count": 49,
      "outputs": []
    },
    {
      "cell_type": "code",
      "source": [
        "#dropping the column Model and index\n",
        "df = df.drop(columns=[\"Model\"])\n",
        "df = df.drop('index',axis=1)"
      ],
      "metadata": {
        "id": "2O0KHY6ol-Cv"
      },
      "execution_count": 50,
      "outputs": []
    },
    {
      "cell_type": "code",
      "source": [
        "#cheking the datatypes of the colums\n",
        "df.info()"
      ],
      "metadata": {
        "colab": {
          "base_uri": "https://localhost:8080/"
        },
        "id": "VjcADIkLvf9q",
        "outputId": "d9cc3f82-8ca9-4b13-f77c-ab1cd93d7dec"
      },
      "execution_count": 51,
      "outputs": [
        {
          "output_type": "stream",
          "name": "stdout",
          "text": [
            "<class 'pandas.core.frame.DataFrame'>\n",
            "RangeIndex: 2059 entries, 0 to 2058\n",
            "Data columns (total 11 columns):\n",
            " #   Column        Non-Null Count  Dtype \n",
            "---  ------        --------------  ----- \n",
            " 0   Make          2059 non-null   object\n",
            " 1   Car Model     2059 non-null   object\n",
            " 2   Price         2059 non-null   int64 \n",
            " 3   Year          2059 non-null   int64 \n",
            " 4   Kilometer     2059 non-null   int64 \n",
            " 5   Fuel Type     2059 non-null   object\n",
            " 6   Transmission  2059 non-null   object\n",
            " 7   Location      2059 non-null   object\n",
            " 8   Color         2059 non-null   object\n",
            " 9   Owner         2059 non-null   object\n",
            " 10  Seller Type   2059 non-null   object\n",
            "dtypes: int64(3), object(8)\n",
            "memory usage: 177.1+ KB\n"
          ]
        }
      ]
    },
    {
      "cell_type": "code",
      "source": [
        "#checking the null values\n",
        "df.isna().sum()"
      ],
      "metadata": {
        "colab": {
          "base_uri": "https://localhost:8080/"
        },
        "id": "2NW3UnKEmm7i",
        "outputId": "1a0e5bc9-8bdb-4e61-94f1-31f94c9852b9"
      },
      "execution_count": 52,
      "outputs": [
        {
          "output_type": "execute_result",
          "data": {
            "text/plain": [
              "Make            0\n",
              "Car Model       0\n",
              "Price           0\n",
              "Year            0\n",
              "Kilometer       0\n",
              "Fuel Type       0\n",
              "Transmission    0\n",
              "Location        0\n",
              "Color           0\n",
              "Owner           0\n",
              "Seller Type     0\n",
              "dtype: int64"
            ]
          },
          "metadata": {},
          "execution_count": 52
        }
      ]
    },
    {
      "cell_type": "code",
      "source": [
        " #checking the distribution of categorical data\n",
        "print(df['Fuel Type'].value_counts())\n",
        "print('\\n\\n',df['Seller Type'].value_counts())\n",
        "print('\\n\\n',df['Transmission'].value_counts())"
      ],
      "metadata": {
        "colab": {
          "base_uri": "https://localhost:8080/"
        },
        "id": "s_PeBT2kwHja",
        "outputId": "f6a99a0c-6553-46ce-d810-ae8fb8f5e0cb"
      },
      "execution_count": 53,
      "outputs": [
        {
          "output_type": "stream",
          "name": "stdout",
          "text": [
            "Diesel          1049\n",
            "Petrol           942\n",
            "CNG               50\n",
            "Electric           7\n",
            "LPG                5\n",
            "Hybrid             3\n",
            "CNG + CNG          1\n",
            "Petrol + CNG       1\n",
            "Petrol + LPG       1\n",
            "Name: Fuel Type, dtype: int64\n",
            "\n",
            "\n",
            " Individual                 1997\n",
            "Corporate                    57\n",
            "Commercial Registration       5\n",
            "Name: Seller Type, dtype: int64\n",
            "\n",
            "\n",
            " Manual       1133\n",
            "Automatic     926\n",
            "Name: Transmission, dtype: int64\n"
          ]
        }
      ]
    },
    {
      "cell_type": "markdown",
      "source": [
        "####**Univariate Analysis Of Each Categorical Values**"
      ],
      "metadata": {
        "id": "HjR9NQYVHG_4"
      }
    },
    {
      "cell_type": "code",
      "source": [
        "sns.set(rc={'figure.figsize':(20,8)})\n",
        "make_count = df['Make'].value_counts().sort_values(ascending=False)\n",
        "sns.barplot(x=make_count.index, y=make_count.values)\n",
        "for i in range(len(make_count)):\n",
        "    plt.annotate(make_count.values[i], (i, make_count.values[i]), ha='center')\n",
        "\n",
        "plt.title('Make')\n",
        "plt.xticks(rotation=90)\n",
        "plt.show()\n"
      ],
      "metadata": {
        "colab": {
          "base_uri": "https://localhost:8080/",
          "height": 575
        },
        "id": "I3So97dr9o-J",
        "outputId": "0366a385-1a5f-4c3f-b000-2cd1d52137d5"
      },
      "execution_count": 54,
      "outputs": [
        {
          "output_type": "display_data",
          "data": {
            "text/plain": [
              "<Figure size 1440x576 with 1 Axes>"
            ],
            "image/png": "[encoded data removed]"
          },
          "metadata": {}
        }
      ]
    },
    {
      "cell_type": "code",
      "source": [
        "sns.set(rc={'figure.figsize':(12,8)})\n",
        "fuel_count = df['Fuel Type'].value_counts().sort_values(ascending=False)\n",
        "sns.barplot(x=fuel_count.index, y=fuel_count.values)\n",
        "plt.title('Fuel Type')\n",
        "plt.xticks(rotation=90)\n",
        "plt.show()\n",
        "\n"
      ],
      "metadata": {
        "colab": {
          "base_uri": "https://localhost:8080/",
          "height": 564
        },
        "id": "nT9djIyZ9pBV",
        "outputId": "93f97ff0-1cba-425d-9a2f-979e1518f6c0"
      },
      "execution_count": 55,
      "outputs": [
        {
          "output_type": "display_data",
          "data": {
            "text/plain": [
              "<Figure size 864x576 with 1 Axes>"
            ],
            "image/png": "[encoded data removed]"
          },
          "metadata": {}
        }
      ]
    },
    {
      "cell_type": "code",
      "source": [
        "sns.set(rc={'figure.figsize':(8,5)})\n",
        "trans_count = df['Transmission'].value_counts().sort_values(ascending=False)\n",
        "sns.barplot(x=trans_count.index, y=trans_count.values)\n",
        "plt.title('Transmission')\n",
        "plt.xticks(rotation=90)\n",
        "plt.show()"
      ],
      "metadata": {
        "colab": {
          "base_uri": "https://localhost:8080/",
          "height": 385
        },
        "id": "LuRwQA849pEs",
        "outputId": "2c64b1bd-8625-40ec-d759-81b3d0a6b13f"
      },
      "execution_count": 56,
      "outputs": [
        {
          "output_type": "display_data",
          "data": {
            "text/plain": [
              "<Figure size 576x360 with 1 Axes>"
            ],
            "image/png": "[encoded data removed]"
          },
          "metadata": {}
        }
      ]
    },
    {
      "cell_type": "code",
      "source": [
        "sns.set(rc={'figure.figsize':(25,8)})\n",
        "\n",
        "loc_count = df['Location'].value_counts().sort_values(ascending=False)\n",
        "sns.barplot(x=loc_count.index, y=loc_count.values)\n",
        "for i in range(len(loc_count)):\n",
        "    plt.annotate(loc_count.values[i], (i, loc_count.values[i]), ha='center')\n",
        "plt.title('Location')\n",
        "plt.xticks(rotation=90)\n",
        "plt.show()"
      ],
      "metadata": {
        "colab": {
          "base_uri": "https://localhost:8080/",
          "height": 543
        },
        "outputId": "dc77d628-c5b7-48ff-a0ee-c5cd9e7f4df2",
        "id": "RzNl0H9lBfGN"
      },
      "execution_count": 57,
      "outputs": [
        {
          "output_type": "display_data",
          "data": {
            "text/plain": [
              "<Figure size 1800x576 with 1 Axes>"
            ],
            "image/png": "[encoded data removed]"
          },
          "metadata": {}
        }
      ]
    },
    {
      "cell_type": "code",
      "source": [
        "sns.set(rc={'figure.figsize':(12,8)})\n",
        "\n",
        "col_count = df['Color'].value_counts().sort_values(ascending=False)\n",
        "sns.barplot(x=col_count.index, y=col_count.values)\n",
        "\n",
        "\n",
        "plt.title('Color')\n",
        "plt.show()"
      ],
      "metadata": {
        "colab": {
          "base_uri": "https://localhost:8080/",
          "height": 501
        },
        "id": "px1rinC79pHk",
        "outputId": "1c1ddd43-98ba-4abb-ffa3-d4acdc51b614"
      },
      "execution_count": 58,
      "outputs": [
        {
          "output_type": "display_data",
          "data": {
            "text/plain": [
              "<Figure size 864x576 with 1 Axes>"
            ],
            "image/png": "[encoded data removed]"
          },
          "metadata": {}
        }
      ]
    },
    {
      "cell_type": "code",
      "source": [],
      "metadata": {
        "id": "udx6gE1W9pKo"
      },
      "execution_count": 58,
      "outputs": []
    },
    {
      "cell_type": "code",
      "source": [],
      "metadata": {
        "id": "-7RR2FgO9pNi"
      },
      "execution_count": 58,
      "outputs": []
    },
    {
      "cell_type": "code",
      "source": [
        "#just copying the dataframe to new variable\n",
        "df1 = df.copy()"
      ],
      "metadata": {
        "id": "0-X-A9cu3QuP"
      },
      "execution_count": 59,
      "outputs": []
    },
    {
      "cell_type": "markdown",
      "source": [
        "####**Encoding The Categorical Columns**"
      ],
      "metadata": {
        "id": "Lbtfctgu8_IL"
      }
    },
    {
      "cell_type": "code",
      "source": [
        "\n",
        "#Fuel Column\n",
        "fuel_type_mapping = {'Diesel': 0, 'Petrol': 1, 'CNG': 2, 'Electric': 3, 'LPG': 4, 'Hybrid': 5, 'CNG + CNG': 6, 'Petrol + CNG': 7, 'Petrol + LPG': 8}\n",
        "df1['Fuel Type'] = df1['Fuel Type'].replace(fuel_type_mapping)\n",
        "#Seller Type\n",
        "df1['Seller Type'] = df1['Seller Type'].replace({'Individual':1, 'Corporate':2, 'Commercial Registration':3})\n",
        "#Transmission\n",
        "df1['Transmission'] = df1['Transmission'].replace({'Manual':1, 'Automatic':2})\n",
        "#Owner\n",
        "df1['Owner'] = df1['Owner'].replace({'First':1, 'Second':2, 'Third':3, 'Fourth':4, 'UnRegistered Car':5, '4 or More':6})"
      ],
      "metadata": {
        "id": "8IRMJhANysLa"
      },
      "execution_count": 60,
      "outputs": []
    },
    {
      "cell_type": "markdown",
      "source": [
        "####**Splitting the data into train and test**"
      ],
      "metadata": {
        "id": "KH2EuxzW9NOf"
      }
    },
    {
      "cell_type": "code",
      "source": [],
      "metadata": {
        "id": "CKVp4oQo2Z3s"
      },
      "execution_count": 60,
      "outputs": []
    }
  ]
}